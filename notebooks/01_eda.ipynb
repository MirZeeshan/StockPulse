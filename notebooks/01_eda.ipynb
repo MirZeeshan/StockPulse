{
 "cells": [
  {
   "cell_type": "markdown",
   "metadata": {},
   "source": [
    "# Exploratory Data Analysis: Stock Price Data\n",
    "\n",
    "This notebook explores the stock price data we've collected and analyzes patterns and trends."
   ]
  },
  {
   "cell_type": "code",
   "execution_count": null,
   "metadata": {},
   "source": [
    "import os\n",
    "import sys\n",
    "import pandas as pd\n",
    "import numpy as np\n",
    "import matplotlib.pyplot as plt\n",
    "import seaborn as sns\n",
    "\n",
    "# Add the parent directory to the path so we can import our modules\n",
    "sys.path.append(os.path.dirname(os.path.dirname(os.path.abspath('__file__'))))\n",
    "\n",
    "from src.data.fetch_data import fetch_stock_data\n",
    "\n",
    "# Set plotting defaults\n",
    "plt.style.use('ggplot')\n",
    "sns.set_theme(style=\"whitegrid\")\n",
    "%matplotlib inline"
   ]
  },
  {
   "cell_type": "markdown",
   "metadata": {},
   "source": [
    "## Fetching Data\n",
    "\n",
    "First, let's fetch some stock data or load it from our data directory if we've already downloaded it."
   ]
  },
  {
   "cell_type": "code",
   "execution_count": null,
   "metadata": {},
   "source": [
    "# Define ticker and try to load existing data first\n",
    "ticker = \"SPY\"\n",
    "file_path = f\"../data/raw/{ticker}_1d_5y.csv\"\n",
    "\n",
    "if os.path.exists(file_path):\n",
    "    print(f\"Loading data from {file_path}\")\n",
    "    df = pd.read_csv(file_path)\n",
    "    # Convert date column to datetime\n",
    "    df['date'] = pd.to_datetime(df['date'])\n",
    "else:\n",
    "    print(f\"Fetching new data for {ticker}\")\n",
    "    df = fetch_stock_data(ticker)\n",
    "    \n",
    "print(f\"Data shape: {df.shape}\")\n",
    "df.head()"
   ]
  }
 ],
 "metadata": {
  "kernelspec": {
   "display_name": "Python 3",
   "language": "python",
   "name": "python3"
  },
  "language_info": {
   "codemirror_mode": {
    "name": "ipython",
    "version": 3
   },
   "file_extension": ".py",
   "mimetype": "text/x-python",
   "name": "python",
   "nbconvert_exporter": "python",
   "pygments_lexer": "ipython3",
   "version": "3.10.0"
  }
 },
 "nbformat": 4,
 "nbformat_minor": 4
}
